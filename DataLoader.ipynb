{
 "cells": [
  {
   "cell_type": "code",
   "execution_count": 5,
   "metadata": {},
   "outputs": [
    {
     "name": "stdout",
     "output_type": "stream",
     "text": [
      "Data for AAPL loaded successfully.\n",
      "Data for MSFT loaded successfully.\n",
      "Data for NVDA loaded successfully.\n",
      "Data for NFLX loaded successfully.\n",
      "Data for GOOGL loaded successfully.\n",
      "Data for AMZN loaded successfully.\n",
      "Data for TSLA loaded successfully.\n",
      "Data for META loaded successfully.\n"
     ]
    }
   ],
   "source": [
    "import yfinance as yf\n",
    "\n",
    "ticker_symbols = [\n",
    "    \"AAPL\", \"MSFT\", \"NVDA\", \"NFLX\", \"GOOGL\", \n",
    "    \"AMZN\", \"TSLA\", \"META\"\n",
    "]\n",
    "start_date = \"2012-01-01\"\n",
    "for ticker in ticker_symbols:\n",
    "    try:\n",
    "        globals()[f\"{ticker}_df\"] = yf.Ticker(ticker).history(start=start_date)\n",
    "        print(f\"Data for {ticker} loaded successfully.\")\n",
    "    except Exception as e:\n",
    "        print(f\"Failed to fetch data for {ticker}: {e}\")\n",
    "\n",
    "\n"
   ]
  },
  {
   "cell_type": "code",
   "execution_count": 6,
   "metadata": {},
   "outputs": [
    {
     "name": "stdout",
     "output_type": "stream",
     "text": [
      "                                Open       High        Low      Close  \\\n",
      "Date                                                                    \n",
      "2012-01-03 00:00:00-05:00  12.333866  12.427258  12.321815  12.388997   \n",
      "2012-01-04 00:00:00-05:00  12.351936  12.492930  12.330246  12.455572   \n",
      "2012-01-05 00:00:00-05:00  12.501069  12.609524  12.432379  12.593859   \n",
      "2012-01-06 00:00:00-05:00  12.646280  12.736057  12.629710  12.725513   \n",
      "2012-01-09 00:00:00-05:00  12.818905  12.886690  12.693879  12.705327   \n",
      "\n",
      "                              Volume  Dividends  Stock Splits  \n",
      "Date                                                           \n",
      "2012-01-03 00:00:00-05:00  302220800        0.0           0.0  \n",
      "2012-01-04 00:00:00-05:00  260022000        0.0           0.0  \n",
      "2012-01-05 00:00:00-05:00  271269600        0.0           0.0  \n",
      "2012-01-06 00:00:00-05:00  318292800        0.0           0.0  \n",
      "2012-01-09 00:00:00-05:00  394024400        0.0           0.0  \n",
      "                                Open       High        Low      Close  \\\n",
      "Date                                                                    \n",
      "2012-01-03 00:00:00-05:00  16.280821  16.660076  16.266609  16.591755   \n",
      "2012-01-04 00:00:00-05:00  16.582279  16.712440  16.472319  16.663319   \n",
      "2012-01-05 00:00:00-05:00  16.509970  16.555849  16.362855  16.432173   \n",
      "2012-01-06 00:00:00-05:00  16.435664  16.456860  16.202276  16.208012   \n",
      "2012-01-09 00:00:00-05:00  16.120241  16.132708  15.490142  15.520812   \n",
      "\n",
      "                              Volume  Dividends  Stock Splits  \n",
      "Date                                                           \n",
      "2012-01-03 00:00:00-05:00  146912940        0.0           0.0  \n",
      "2012-01-04 00:00:00-05:00  114445440        0.0           0.0  \n",
      "2012-01-05 00:00:00-05:00  131184684        0.0           0.0  \n",
      "2012-01-06 00:00:00-05:00  107608284        0.0           0.0  \n",
      "2012-01-09 00:00:00-05:00  232671096        0.0           0.0  \n"
     ]
    }
   ],
   "source": [
    "print(AAPL_df.head())\n",
    "print(GOOGL_df.head())"
   ]
  },
  {
   "cell_type": "code",
   "execution_count": 7,
   "metadata": {},
   "outputs": [],
   "source": [
    "for ticker in ticker_symbols:\n",
    "    df=globals()[ticker+\"_df\"]\n",
    "    df.drop(['Dividends','Stock Splits'],axis=1,inplace=True)\n",
    "    df['Date']=df.index.date\n",
    "    df.to_csv(f\"{ticker}.csv\",index=False)"
   ]
  },
  {
   "cell_type": "code",
   "execution_count": null,
   "metadata": {},
   "outputs": [],
   "source": []
  }
 ],
 "metadata": {
  "kernelspec": {
   "display_name": "stockPrice",
   "language": "python",
   "name": "python3"
  },
  "language_info": {
   "codemirror_mode": {
    "name": "ipython",
    "version": 3
   },
   "file_extension": ".py",
   "mimetype": "text/x-python",
   "name": "python",
   "nbconvert_exporter": "python",
   "pygments_lexer": "ipython3",
   "version": "3.12.0"
  }
 },
 "nbformat": 4,
 "nbformat_minor": 2
}
